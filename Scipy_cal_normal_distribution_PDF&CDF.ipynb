{
 "cells": [
  {
   "cell_type": "code",
   "execution_count": 2,
   "metadata": {},
   "outputs": [],
   "source": [
    "## this notebook is for Scipy practice or perform CDF and PDF \n",
    "# import required library from normal distribution\n",
    "from scipy.stats import norm"
   ]
  },
  {
   "cell_type": "code",
   "execution_count": 3,
   "metadata": {},
   "outputs": [
    {
     "data": {
      "text/plain": [
       "array([-1.19878581, -1.75302948,  1.28035912,  0.00957547,  0.64409891,\n",
       "        0.42248651, -0.30069571, -0.04749013, -1.8500219 ,  1.19450623,\n",
       "       -0.89718986,  1.34186658,  0.37126732, -0.21859908,  0.61944403,\n",
       "        0.53061419, -0.61547972,  0.57794856,  0.6705824 ,  0.88987022])"
      ]
     },
     "execution_count": 3,
     "metadata": {},
     "output_type": "execute_result"
    }
   ],
   "source": [
    "# Define 20 random variables for normal distribution of Data\n",
    "norm.rvs(loc=0,scale=1, size=20)"
   ]
  },
  {
   "cell_type": "code",
   "execution_count": 4,
   "metadata": {},
   "outputs": [
    {
     "data": {
      "text/plain": [
       "0.9986501019683699"
      ]
     },
     "execution_count": 4,
     "metadata": {},
     "output_type": "execute_result"
    }
   ],
   "source": [
    "# Perform Cumulative Distribition Function or CDF for a random variable 10, loc=1, scale =3\n",
    "norm.cdf(10, loc=1,scale=3)"
   ]
  },
  {
   "cell_type": "code",
   "execution_count": 5,
   "metadata": {},
   "outputs": [
    {
     "data": {
      "text/plain": [
       "7.998827757006813e-38"
      ]
     },
     "execution_count": 5,
     "metadata": {},
     "output_type": "execute_result"
    }
   ],
   "source": [
    "# Perform Probabitliy Density Function or PDF for a random variable 14, loc=1, scale =1\n",
    "norm.pdf(14, loc=1, scale=1)"
   ]
  }
 ],
 "metadata": {
  "kernelspec": {
   "display_name": "Python 3",
   "language": "python",
   "name": "python3"
  },
  "language_info": {
   "codemirror_mode": {
    "name": "ipython",
    "version": 3
   },
   "file_extension": ".py",
   "mimetype": "text/x-python",
   "name": "python",
   "nbconvert_exporter": "python",
   "pygments_lexer": "ipython3",
   "version": "3.7.4"
  }
 },
 "nbformat": 4,
 "nbformat_minor": 2
}
